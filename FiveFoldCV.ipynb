{
  "cells": [
    {
      "cell_type": "code",
      "execution_count": 1,
      "metadata": {
        "id": "iYOE5V1Vo7TF"
      },
      "outputs": [],
      "source": [
        "import os\n",
        "import time\n",
        "import copy\n",
        "import numpy as np\n",
        "import pandas as pd\n",
        "\n",
        "import torch\n",
        "import torch.nn as nn\n",
        "import torch.nn.functional as F\n",
        "import torch.optim as optim\n",
        "import torchaudio\n",
        "from torch import Tensor\n",
        "from torch.utils.data import Dataset, DataLoader\n",
        "\n",
        "from model import EnvironNet\n",
        "from utils import num_params\n",
        "from train_test import test_model\n",
        "from data import AudioDataset, collate_fn"
      ]
    },
    {
      "cell_type": "code",
      "execution_count": 2,
      "metadata": {
        "colab": {
          "base_uri": "https://localhost:8080/",
          "height": 206
        },
        "id": "mU5wpkuro7TH",
        "outputId": "74e4742f-36f9-4287-8169-3346bcfd3d46"
      },
      "outputs": [
        {
          "data": {
            "text/html": [
              "<div>\n",
              "<style scoped>\n",
              "    .dataframe tbody tr th:only-of-type {\n",
              "        vertical-align: middle;\n",
              "    }\n",
              "\n",
              "    .dataframe tbody tr th {\n",
              "        vertical-align: top;\n",
              "    }\n",
              "\n",
              "    .dataframe thead th {\n",
              "        text-align: right;\n",
              "    }\n",
              "</style>\n",
              "<table border=\"1\" class=\"dataframe\">\n",
              "  <thead>\n",
              "    <tr style=\"text-align: right;\">\n",
              "      <th></th>\n",
              "      <th>filename</th>\n",
              "      <th>fold</th>\n",
              "      <th>target</th>\n",
              "      <th>category</th>\n",
              "      <th>esc10</th>\n",
              "      <th>src_file</th>\n",
              "      <th>take</th>\n",
              "    </tr>\n",
              "  </thead>\n",
              "  <tbody>\n",
              "    <tr>\n",
              "      <th>0</th>\n",
              "      <td>1-100032-A-0.wav</td>\n",
              "      <td>1</td>\n",
              "      <td>0</td>\n",
              "      <td>dog</td>\n",
              "      <td>True</td>\n",
              "      <td>100032</td>\n",
              "      <td>A</td>\n",
              "    </tr>\n",
              "    <tr>\n",
              "      <th>1</th>\n",
              "      <td>1-100038-A-14.wav</td>\n",
              "      <td>1</td>\n",
              "      <td>14</td>\n",
              "      <td>chirping_birds</td>\n",
              "      <td>False</td>\n",
              "      <td>100038</td>\n",
              "      <td>A</td>\n",
              "    </tr>\n",
              "    <tr>\n",
              "      <th>2</th>\n",
              "      <td>1-100210-A-36.wav</td>\n",
              "      <td>1</td>\n",
              "      <td>36</td>\n",
              "      <td>vacuum_cleaner</td>\n",
              "      <td>False</td>\n",
              "      <td>100210</td>\n",
              "      <td>A</td>\n",
              "    </tr>\n",
              "    <tr>\n",
              "      <th>3</th>\n",
              "      <td>1-100210-B-36.wav</td>\n",
              "      <td>1</td>\n",
              "      <td>36</td>\n",
              "      <td>vacuum_cleaner</td>\n",
              "      <td>False</td>\n",
              "      <td>100210</td>\n",
              "      <td>B</td>\n",
              "    </tr>\n",
              "    <tr>\n",
              "      <th>4</th>\n",
              "      <td>1-101296-A-19.wav</td>\n",
              "      <td>1</td>\n",
              "      <td>19</td>\n",
              "      <td>thunderstorm</td>\n",
              "      <td>False</td>\n",
              "      <td>101296</td>\n",
              "      <td>A</td>\n",
              "    </tr>\n",
              "  </tbody>\n",
              "</table>\n",
              "</div>"
            ],
            "text/plain": [
              "            filename  fold  target        category  esc10  src_file take\n",
              "0   1-100032-A-0.wav     1       0             dog   True    100032    A\n",
              "1  1-100038-A-14.wav     1      14  chirping_birds  False    100038    A\n",
              "2  1-100210-A-36.wav     1      36  vacuum_cleaner  False    100210    A\n",
              "3  1-100210-B-36.wav     1      36  vacuum_cleaner  False    100210    B\n",
              "4  1-101296-A-19.wav     1      19    thunderstorm  False    101296    A"
            ]
          },
          "execution_count": 2,
          "metadata": {},
          "output_type": "execute_result"
        }
      ],
      "source": [
        "df = pd.read_csv(\"ESC-50/meta/esc50.csv\")\n",
        "df.head()"
      ]
    },
    {
      "cell_type": "code",
      "execution_count": 3,
      "metadata": {
        "id": "28DgWSb2Ynu0"
      },
      "outputs": [],
      "source": [
        "def num_params(\n",
        "    model: object\n",
        ") -> int:\n",
        "    return sum([p.numel() for p in model.parameters() if p.requires_grad])"
      ]
    },
    {
      "cell_type": "code",
      "execution_count": 4,
      "metadata": {
        "colab": {
          "base_uri": "https://localhost:8080/"
        },
        "id": "3wIzSCy5ZrgU",
        "outputId": "e07460e4-bfdf-4e48-b312-ab6ce5e45240"
      },
      "outputs": [
        {
          "name": "stdout",
          "output_type": "stream",
          "text": [
            "Device: cuda\n",
            "Testing complete in 0m 4s\n",
            "Testing complete in 0m 3s\n",
            "Testing complete in 0m 4s\n",
            "Testing complete in 0m 4s\n",
            "Testing complete in 0m 4s\n"
          ]
        }
      ],
      "source": [
        "device = \"cuda\" if torch.cuda.is_available() else \"cpu\"\n",
        "print(f\"Device: {device}\")\n",
        "batch_size = 32\n",
        "\n",
        "if device == \"cuda\":\n",
        "    num_workers = 0\n",
        "    pin_memory = True\n",
        "\n",
        "elif device == \"cpu\":\n",
        "    num_workers = 0\n",
        "    pin_memory = False\n",
        "\n",
        "weights_path = \"weights/baseline.pth.tar\"\n",
        "weights = torch.load(weights_path)\n",
        "criterion = nn.CrossEntropyLoss()\n",
        "accuracies = {}\n",
        "\n",
        "for i in range(1, 6):\n",
        "    model = EnvironNet(\n",
        "        in_channels = 1,\n",
        "        n_classes = 50,\n",
        "        kernel_size = (3, 3),\n",
        "        num_subspecs = 2,\n",
        "        affine = True,\n",
        "        dropout = 0.\n",
        "    ).to(device)\n",
        "    model = nn.DataParallel(model)\n",
        "    model.load_state_dict(weights[f\"fold_{i}\"])\n",
        "\n",
        "    optimizer = optim.SGD(\n",
        "        model.parameters(),\n",
        "        lr = 0.0005,\n",
        "        momentum = 0.9,\n",
        "        weight_decay = 0.001,\n",
        "        nesterov = True\n",
        "    )\n",
        "\n",
        "    df_test = df[df[\"fold\"] == i]\n",
        "    df_test.reset_index(drop=True, inplace=True)\n",
        "\n",
        "    test_set = AudioDataset(\n",
        "        df_test,\n",
        "        \"ESC-50/audio\",\n",
        "    )\n",
        "\n",
        "    test_loader = DataLoader(\n",
        "        test_set,\n",
        "        batch_size = batch_size,\n",
        "        shuffle = True,\n",
        "        collate_fn = collate_fn,\n",
        "        num_workers = num_workers,\n",
        "        pin_memory = pin_memory,\n",
        "    )\n",
        "  \n",
        "    model, cache = test_model(model, test_loader, optimizer, criterion, device)\n",
        "    _, test_accuracy, *_ = cache.values()\n",
        "    accuracies[f\"fold_{i+1}\"] = test_accuracy"
      ]
    },
    {
      "cell_type": "code",
      "execution_count": 5,
      "metadata": {
        "colab": {
          "base_uri": "https://localhost:8080/"
        },
        "id": "viB16iDqpvsI",
        "outputId": "b76af7ba-98ed-4938-c2e3-5f6f6abcb6f9"
      },
      "outputs": [
        {
          "name": "stdout",
          "output_type": "stream",
          "text": [
            "Fold 1 accuracy: 80.2%\n",
            "Fold 2 accuracy: 74.5%\n",
            "Fold 3 accuracy: 77.8%\n",
            "Fold 4 accuracy: 82.2%\n",
            "Fold 5 accuracy: 73.0%\n",
            "Five fold cross-validation accuracy: 77.5% +- 3.4%\n"
          ]
        }
      ],
      "source": [
        "# Accuracies sometimes vary per run\n",
        "accs = np.array(list(accuracies.values()))\n",
        "for i, acc in enumerate(accs):\n",
        "    print(f\"Fold {i+1} accuracy: {acc*100:.1f}%\")\n",
        "print(f\"Five fold cross-validation accuracy: {accs.mean()*100:.1f}% +-\",\n",
        "    f\"{accs.std()*100:.1f}%\")"
      ]
    }
  ],
  "metadata": {
    "accelerator": "GPU",
    "colab": {
      "collapsed_sections": [],
      "machine_shape": "hm",
      "name": "FiveFoldCV",
      "provenance": []
    },
    "kernelspec": {
      "display_name": "Python 3",
      "language": "python",
      "name": "python3"
    },
    "language_info": {
      "codemirror_mode": {
        "name": "ipython",
        "version": 3
      },
      "file_extension": ".py",
      "mimetype": "text/x-python",
      "name": "python",
      "nbconvert_exporter": "python",
      "pygments_lexer": "ipython3",
      "version": "3.7.10"
    }
  },
  "nbformat": 4,
  "nbformat_minor": 0
}
